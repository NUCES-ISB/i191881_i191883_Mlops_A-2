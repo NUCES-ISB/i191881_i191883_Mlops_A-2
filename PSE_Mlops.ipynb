{
 "cells": [
  {
   "cell_type": "code",
   "execution_count": 14,
   "metadata": {},
   "outputs": [
    {
     "name": "stdout",
     "output_type": "stream",
     "text": [
      "WARNING: pip is being invoked by an old script wrapper. This will fail in a future version of pip.\n",
      "Please see https://github.com/pypa/pip/issues/5599 for advice on fixing the underlying issue.\n",
      "To avoid this problem you can invoke Python with '-m pip' instead of running pip directly.\n",
      "Defaulting to user installation because normal site-packages is not writeable\n",
      "Requirement already satisfied: psx-data-reader in /home/abdullah/.local/lib/python3.6/site-packages (0.0.6)\n",
      "Requirement already satisfied: requests in /home/abdullah/.local/lib/python3.6/site-packages (from psx-data-reader) (2.26.0)\n",
      "Requirement already satisfied: pandas in /usr/local/lib/python3.6/dist-packages (from psx-data-reader) (1.1.5)\n",
      "Requirement already satisfied: beautifulsoup4 in /home/abdullah/.local/lib/python3.6/site-packages (from psx-data-reader) (4.9.3)\n",
      "Requirement already satisfied: tqdm in /home/abdullah/.local/lib/python3.6/site-packages (from psx-data-reader) (4.64.1)\n",
      "Requirement already satisfied: soupsieve>1.2 in /home/abdullah/.local/lib/python3.6/site-packages (from beautifulsoup4->psx-data-reader) (2.2.1)\n",
      "Requirement already satisfied: numpy>=1.15.4 in /home/abdullah/.local/lib/python3.6/site-packages (from pandas->psx-data-reader) (1.19.5)\n",
      "Requirement already satisfied: python-dateutil>=2.7.3 in /home/abdullah/.local/lib/python3.6/site-packages (from pandas->psx-data-reader) (2.8.2)\n",
      "Requirement already satisfied: pytz>=2017.2 in /usr/lib/python3/dist-packages (from pandas->psx-data-reader) (2018.3)\n",
      "Requirement already satisfied: idna<4,>=2.5 in /home/abdullah/.local/lib/python3.6/site-packages (from requests->psx-data-reader) (3.2)\n",
      "Requirement already satisfied: charset-normalizer~=2.0.0 in /home/abdullah/.local/lib/python3.6/site-packages (from requests->psx-data-reader) (2.0.3)\n",
      "Requirement already satisfied: certifi>=2017.4.17 in /home/abdullah/.local/lib/python3.6/site-packages (from requests->psx-data-reader) (2021.5.30)\n",
      "Requirement already satisfied: urllib3<1.27,>=1.21.1 in /home/abdullah/.local/lib/python3.6/site-packages (from requests->psx-data-reader) (1.26.6)\n",
      "Requirement already satisfied: importlib-resources in /home/abdullah/.local/lib/python3.6/site-packages (from tqdm->psx-data-reader) (5.4.0)\n",
      "Requirement already satisfied: six>=1.5 in /home/abdullah/.local/lib/python3.6/site-packages (from python-dateutil>=2.7.3->pandas->psx-data-reader) (1.16.0)\n",
      "Requirement already satisfied: zipp>=3.1.0 in /home/abdullah/.local/lib/python3.6/site-packages (from importlib-resources->tqdm->psx-data-reader) (3.6.0)\n"
     ]
    }
   ],
   "source": [
    "!pip3 install psx-data-reader"
   ]
  },
  {
   "cell_type": "code",
   "execution_count": 15,
   "metadata": {},
   "outputs": [],
   "source": [
    "from flask import Flask, request, jsonify, render_template\n",
    "import joblib\n",
    "import numpy as np\n",
    "import os\n",
    "import pandas as pd\n",
    "from sklearn.linear_model import LinearRegression\n",
    "from sklearn.metrics import mean_absolute_error, mean_squared_error, r2_score\n",
    "from sklearn.preprocessing import PolynomialFeatures\n",
    "from psx import stocks, tickers\n",
    "import datetime"
   ]
  },
  {
   "cell_type": "code",
   "execution_count": 16,
   "metadata": {},
   "outputs": [
    {
     "name": "stderr",
     "output_type": "stream",
     "text": [
      "Downloading ZELP's Data: 100%|██████████| 64/64 [00:13<00:00,  4.60it/s]\n",
      "Downloading ZAHID's Data: 100%|██████████| 64/64 [00:12<00:00,  4.93it/s]"
     ]
    },
    {
     "name": "stdout",
     "output_type": "stream",
     "text": [
      "                    Open   High    Low  Close   Volume\n",
      "Ticker Date                                           \n",
      "ZELP   2021-10-25   0.00   0.00   0.00   0.44      0.0\n",
      "       2021-10-29   0.00   0.00   0.00   0.44      0.0\n",
      "ZAHID  2018-01-02  12.51  12.75  12.50  12.75   4500.0\n",
      "       2018-01-03  12.60  12.60  12.60  12.60   1000.0\n",
      "       2018-01-05  13.40  13.40  13.40  13.40    500.0\n",
      "...                  ...    ...    ...    ...      ...\n",
      "       2023-03-15  29.00  29.00  29.00  29.00    500.0\n",
      "       2023-03-16  29.25  29.50  29.25  29.50   1500.0\n",
      "       2023-03-17  27.30  29.70  27.30  27.35  25000.0\n",
      "       2023-03-22  27.25  29.25  27.25  27.50   2500.0\n",
      "       2023-03-24  26.00  26.00  26.00  26.00    500.0\n",
      "\n",
      "[696 rows x 5 columns]\n"
     ]
    },
    {
     "name": "stderr",
     "output_type": "stream",
     "text": [
      "\n"
     ]
    },
    {
     "data": {
      "text/html": [
       "<div>\n",
       "<style scoped>\n",
       "    .dataframe tbody tr th:only-of-type {\n",
       "        vertical-align: middle;\n",
       "    }\n",
       "\n",
       "    .dataframe tbody tr th {\n",
       "        vertical-align: top;\n",
       "    }\n",
       "\n",
       "    .dataframe thead th {\n",
       "        text-align: right;\n",
       "    }\n",
       "</style>\n",
       "<table border=\"1\" class=\"dataframe\">\n",
       "  <thead>\n",
       "    <tr style=\"text-align: right;\">\n",
       "      <th></th>\n",
       "      <th></th>\n",
       "      <th>Open</th>\n",
       "      <th>High</th>\n",
       "      <th>Low</th>\n",
       "      <th>Close</th>\n",
       "      <th>Volume</th>\n",
       "    </tr>\n",
       "    <tr>\n",
       "      <th>Ticker</th>\n",
       "      <th>Date</th>\n",
       "      <th></th>\n",
       "      <th></th>\n",
       "      <th></th>\n",
       "      <th></th>\n",
       "      <th></th>\n",
       "    </tr>\n",
       "  </thead>\n",
       "  <tbody>\n",
       "    <tr>\n",
       "      <th rowspan=\"2\" valign=\"top\">ZELP</th>\n",
       "      <th>2021-10-25</th>\n",
       "      <td>0.00</td>\n",
       "      <td>0.00</td>\n",
       "      <td>0.00</td>\n",
       "      <td>0.44</td>\n",
       "      <td>0.0</td>\n",
       "    </tr>\n",
       "    <tr>\n",
       "      <th>2021-10-29</th>\n",
       "      <td>0.00</td>\n",
       "      <td>0.00</td>\n",
       "      <td>0.00</td>\n",
       "      <td>0.44</td>\n",
       "      <td>0.0</td>\n",
       "    </tr>\n",
       "    <tr>\n",
       "      <th rowspan=\"8\" valign=\"top\">ZAHID</th>\n",
       "      <th>2018-01-02</th>\n",
       "      <td>12.51</td>\n",
       "      <td>12.75</td>\n",
       "      <td>12.50</td>\n",
       "      <td>12.75</td>\n",
       "      <td>4500.0</td>\n",
       "    </tr>\n",
       "    <tr>\n",
       "      <th>2018-01-03</th>\n",
       "      <td>12.60</td>\n",
       "      <td>12.60</td>\n",
       "      <td>12.60</td>\n",
       "      <td>12.60</td>\n",
       "      <td>1000.0</td>\n",
       "    </tr>\n",
       "    <tr>\n",
       "      <th>2018-01-05</th>\n",
       "      <td>13.40</td>\n",
       "      <td>13.40</td>\n",
       "      <td>13.40</td>\n",
       "      <td>13.40</td>\n",
       "      <td>500.0</td>\n",
       "    </tr>\n",
       "    <tr>\n",
       "      <th>2018-01-08</th>\n",
       "      <td>13.50</td>\n",
       "      <td>14.00</td>\n",
       "      <td>13.50</td>\n",
       "      <td>13.99</td>\n",
       "      <td>5500.0</td>\n",
       "    </tr>\n",
       "    <tr>\n",
       "      <th>2018-01-09</th>\n",
       "      <td>13.08</td>\n",
       "      <td>13.89</td>\n",
       "      <td>13.06</td>\n",
       "      <td>13.89</td>\n",
       "      <td>6500.0</td>\n",
       "    </tr>\n",
       "    <tr>\n",
       "      <th>2018-01-10</th>\n",
       "      <td>13.95</td>\n",
       "      <td>14.15</td>\n",
       "      <td>13.50</td>\n",
       "      <td>13.98</td>\n",
       "      <td>4000.0</td>\n",
       "    </tr>\n",
       "    <tr>\n",
       "      <th>2018-01-12</th>\n",
       "      <td>13.50</td>\n",
       "      <td>13.80</td>\n",
       "      <td>13.40</td>\n",
       "      <td>13.80</td>\n",
       "      <td>9500.0</td>\n",
       "    </tr>\n",
       "    <tr>\n",
       "      <th>2018-01-16</th>\n",
       "      <td>14.00</td>\n",
       "      <td>14.10</td>\n",
       "      <td>13.75</td>\n",
       "      <td>14.00</td>\n",
       "      <td>8000.0</td>\n",
       "    </tr>\n",
       "  </tbody>\n",
       "</table>\n",
       "</div>"
      ],
      "text/plain": [
       "                    Open   High    Low  Close  Volume\n",
       "Ticker Date                                          \n",
       "ZELP   2021-10-25   0.00   0.00   0.00   0.44     0.0\n",
       "       2021-10-29   0.00   0.00   0.00   0.44     0.0\n",
       "ZAHID  2018-01-02  12.51  12.75  12.50  12.75  4500.0\n",
       "       2018-01-03  12.60  12.60  12.60  12.60  1000.0\n",
       "       2018-01-05  13.40  13.40  13.40  13.40   500.0\n",
       "       2018-01-08  13.50  14.00  13.50  13.99  5500.0\n",
       "       2018-01-09  13.08  13.89  13.06  13.89  6500.0\n",
       "       2018-01-10  13.95  14.15  13.50  13.98  4000.0\n",
       "       2018-01-12  13.50  13.80  13.40  13.80  9500.0\n",
       "       2018-01-16  14.00  14.10  13.75  14.00  8000.0"
      ]
     },
     "execution_count": 16,
     "metadata": {},
     "output_type": "execute_result"
    }
   ],
   "source": [
    "from psx import stocks, tickers\n",
    "import pandas as pd\n",
    "import datetime\n",
    "\n",
    "tickers = tickers()\n",
    "\n",
    "# data = stocks(\"ZTL\", start=datetime.date(2018, 1, 1), end=datetime.date.today())\n",
    "\n",
    "data = stocks([\"ZELP\", \"ZAHID\"], start=datetime.date(2018, 1, 1), end=datetime.date.today())\n",
    "\n",
    "print(data)\n",
    "\n",
    "data.to_csv(r'result.csv')\n",
    "data.head(10)"
   ]
  },
  {
   "cell_type": "code",
   "execution_count": 17,
   "metadata": {},
   "outputs": [],
   "source": [
    "from flask import Flask, request, jsonify, render_template\n",
    "import joblib\n",
    "import numpy as np\n",
    "import os\n",
    "import pandas as pd\n",
    "from sklearn.linear_model import LinearRegression\n",
    "from sklearn.metrics import mean_absolute_error, mean_squared_error, r2_score\n",
    "from sklearn.preprocessing import PolynomialFeatures\n",
    "from psx import stocks, tickers\n",
    "import datetime"
   ]
  },
  {
   "cell_type": "code",
   "execution_count": 18,
   "metadata": {},
   "outputs": [
    {
     "name": "stdout",
     "output_type": "stream",
     "text": [
      "result.csv has been deleted.\n"
     ]
    }
   ],
   "source": [
    "app = Flask(__name__, template_folder='/app')\n",
    "\n",
    "# Load the dataset\n",
    "# tickers = tickers()\n",
    "file_path = \"result.csv\"\n",
    "\n",
    "if os.path.exists(file_path):\n",
    "    os.remove(file_path)\n",
    "    print(f\"{file_path} has been deleted.\")\n",
    "else:\n",
    "    print(f\"{file_path} does not exist.\")"
   ]
  },
  {
   "cell_type": "code",
   "execution_count": 19,
   "metadata": {},
   "outputs": [
    {
     "name": "stderr",
     "output_type": "stream",
     "text": [
      "Downloading ZELP's Data: 100%|██████████| 64/64 [00:14<00:00,  4.34it/s]\n",
      "Downloading ZAHID's Data: 100%|██████████| 64/64 [00:13<00:00,  4.57it/s]\n"
     ]
    }
   ],
   "source": [
    "data = stocks([\"ZELP\", \"ZAHID\"], start=datetime.date(2018, 1, 1), end=datetime.date.today())\n",
    "data.to_csv(r'result.csv')\n",
    "data = pd.read_csv('result.csv')\n",
    "# Split the data into training and testing sets (80% training, 20% testing)\n",
    "train_size = int(len(data) * 0.8)\n",
    "train_data = data.iloc[:train_size]\n",
    "test_data = data.iloc[train_size:]"
   ]
  },
  {
   "cell_type": "code",
   "execution_count": 20,
   "metadata": {},
   "outputs": [
    {
     "ename": "SyntaxError",
     "evalue": "unexpected EOF while parsing (<ipython-input-20-350b6f253174>, line 13)",
     "output_type": "error",
     "traceback": [
      "\u001b[0;36m  File \u001b[0;32m\"<ipython-input-20-350b6f253174>\"\u001b[0;36m, line \u001b[0;32m13\u001b[0m\n\u001b[0;31m    return render_template('index.html', chart_data=chart_data, r2=r2, mse=mse, mae=ma\u001b[0m\n\u001b[0m                                                                                      ^\u001b[0m\n\u001b[0;31mSyntaxError\u001b[0m\u001b[0;31m:\u001b[0m unexpected EOF while parsing\n"
     ]
    }
   ],
   "source": [
    "@app.route('/')\n",
    "def chart():\n",
    "    # Extract data for charting\n",
    "    chart_data = data[['Date', 'High', 'Low']].values.tolist()\n",
    "\n",
    "    # Make predictions on test data and compute evaluation metrics\n",
    "    y_pred = model.predict(X_test_poly)\n",
    "    r2 = r2_score(y_test, y_pred)\n",
    "    mse = mean_squared_error(y_test, y_pred)\n",
    "    mae = mean_absolute_error(y_test, y_pred)\n",
    "\n",
    "    # Render the template with the chart data and evaluation metrics\n",
    "    return render_template('index.html', chart_data=chart_data, r2=r2, mse=mse, mae=ma"
   ]
  },
  {
   "cell_type": "code",
   "execution_count": null,
   "metadata": {},
   "outputs": [],
   "source": []
  }
 ],
 "metadata": {
  "kernelspec": {
   "display_name": "Python 3",
   "language": "python",
   "name": "python3"
  },
  "language_info": {
   "codemirror_mode": {
    "name": "ipython",
    "version": 3
   },
   "file_extension": ".py",
   "mimetype": "text/x-python",
   "name": "python",
   "nbconvert_exporter": "python",
   "pygments_lexer": "ipython3",
   "version": "3.6.9"
  },
  "orig_nbformat": 4,
  "vscode": {
   "interpreter": {
    "hash": "31f2aee4e71d21fbe5cf8b01ff0e069b9275f58929596ceb00d14d90e3e16cd6"
   }
  }
 },
 "nbformat": 4,
 "nbformat_minor": 2
}
